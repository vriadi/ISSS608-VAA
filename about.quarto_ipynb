{
  "cells": [
    {
      "cell_type": "markdown",
      "metadata": {},
      "source": [
        "---\n",
        "title: \"About Me\"\n",
        "---\n",
        "\n",
        "\n",
        "\n",
        "\n",
        "Hi My\n",
        "\n",
        "\n",
        "\n",
        "\n",
        "```{I have a total of six years of experience across media, tech (e-commerce), and the public sector, focusing on project management, data analytics, and automation before I decided to pursue my current MITB program full-time. I am currently finishing up my modules and would be able to work full time as my classes are in the evenings or on Saturdays.}\n",
        "```"
      ],
      "id": "04d91830"
    }
  ],
  "metadata": {
    "kernelspec": {
      "display_name": "Python 3",
      "language": "python",
      "name": "python3"
    }
  },
  "nbformat": 4,
  "nbformat_minor": 5
}